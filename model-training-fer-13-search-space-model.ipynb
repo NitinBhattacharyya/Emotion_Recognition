{
 "cells": [
  {
   "cell_type": "markdown",
   "metadata": {},
   "source": [
    "## IMPORTING LIBRARIES and Defining our directories where files are stored"
   ]
  },
  {
   "cell_type": "code",
   "execution_count": 22,
   "metadata": {
    "execution": {
     "iopub.execute_input": "2022-04-09T13:42:57.502821Z",
     "iopub.status.busy": "2022-04-09T13:42:57.501986Z",
     "iopub.status.idle": "2022-04-09T13:42:57.509466Z",
     "shell.execute_reply": "2022-04-09T13:42:57.508621Z",
     "shell.execute_reply.started": "2022-04-09T13:42:57.502776Z"
    }
   },
   "outputs": [],
   "source": [
    "import pandas as pd\n",
    "import numpy as np\n",
    "import os\n",
    "np.random.seed(10)\n",
    "import matplotlib.pyplot as plt\n",
    "import seaborn as sns"
   ]
  },
  {
   "cell_type": "code",
   "execution_count": 23,
   "metadata": {
    "execution": {
     "iopub.execute_input": "2022-04-09T13:42:57.790822Z",
     "iopub.status.busy": "2022-04-09T13:42:57.790607Z",
     "iopub.status.idle": "2022-04-09T13:42:57.794248Z",
     "shell.execute_reply": "2022-04-09T13:42:57.793409Z",
     "shell.execute_reply.started": "2022-04-09T13:42:57.790797Z"
    }
   },
   "outputs": [],
   "source": [
    "import tensorflow as tf\n",
    "from tensorflow import keras"
   ]
  },
  {
   "cell_type": "code",
   "execution_count": 24,
   "metadata": {
    "execution": {
     "iopub.execute_input": "2022-04-09T13:42:58.120910Z",
     "iopub.status.busy": "2022-04-09T13:42:58.120659Z",
     "iopub.status.idle": "2022-04-09T13:42:58.124924Z",
     "shell.execute_reply": "2022-04-09T13:42:58.124193Z",
     "shell.execute_reply.started": "2022-04-09T13:42:58.120883Z"
    }
   },
   "outputs": [],
   "source": [
    "train_dir = 'train/'\n",
    "val_dir='validation/'\n",
    "test_dir = 'test/'"
   ]
  },
  {
   "cell_type": "code",
   "execution_count": 25,
   "metadata": {
    "execution": {
     "iopub.execute_input": "2022-04-09T13:42:58.436155Z",
     "iopub.status.busy": "2022-04-09T13:42:58.435689Z",
     "iopub.status.idle": "2022-04-09T13:42:58.441067Z",
     "shell.execute_reply": "2022-04-09T13:42:58.439082Z",
     "shell.execute_reply.started": "2022-04-09T13:42:58.436126Z"
    }
   },
   "outputs": [],
   "source": [
    "row=48\n",
    "col=48\n",
    "classes = 7"
   ]
  },
  {
   "cell_type": "markdown",
   "metadata": {},
   "source": [
    "## Preprocessing"
   ]
  },
  {
   "cell_type": "code",
   "execution_count": 26,
   "metadata": {
    "execution": {
     "iopub.execute_input": "2022-04-09T13:42:58.966430Z",
     "iopub.status.busy": "2022-04-09T13:42:58.966176Z",
     "iopub.status.idle": "2022-04-09T13:42:58.973407Z",
     "shell.execute_reply": "2022-04-09T13:42:58.972445Z",
     "shell.execute_reply.started": "2022-04-09T13:42:58.966401Z"
    }
   },
   "outputs": [],
   "source": [
    "from tensorflow.keras.preprocessing.image import ImageDataGenerator\n",
    "from tensorflow.keras.layers import Conv2D,Dense, MaxPooling2D,Flatten,Dropout,Activation, BatchNormalization\n",
    "from tensorflow.keras.optimizers import Adam,RMSprop,SGD\n",
    "from tensorflow.keras import regularizers\n",
    "from tensorflow.keras.callbacks import ModelCheckpoint, CSVLogger,TensorBoard,EarlyStopping,ReduceLROnPlateau\n",
    "import datetime\n",
    "from tensorflow.keras.utils import plot_model\n",
    "from tensorflow.keras.models import Sequential"
   ]
  },
  {
   "cell_type": "code",
   "execution_count": 27,
   "metadata": {
    "execution": {
     "iopub.execute_input": "2022-04-09T13:42:59.280656Z",
     "iopub.status.busy": "2022-04-09T13:42:59.280446Z",
     "iopub.status.idle": "2022-04-09T13:43:05.315426Z",
     "shell.execute_reply": "2022-04-09T13:43:05.314686Z",
     "shell.execute_reply.started": "2022-04-09T13:42:59.280630Z"
    }
   },
   "outputs": [
    {
     "name": "stdout",
     "output_type": "stream",
     "text": [
      "Found 28709 images belonging to 7 classes.\n",
      "Found 3589 images belonging to 7 classes.\n",
      "Found 3589 images belonging to 7 classes.\n"
     ]
    }
   ],
   "source": [
    "train_datagen = ImageDataGenerator( rescale=1./255,\n",
    "                                    zoom_range=0.1,\n",
    "                                    rotation_range=10,\n",
    "                                    width_shift_range=0.1,\n",
    "                                    height_shift_range=0.1,\n",
    "                                    featurewise_center=False,\n",
    "                                    featurewise_std_normalization=False,\n",
    "                                    horizontal_flip=True\n",
    "                                    )\n",
    "\n",
    "\n",
    "train_set=train_datagen.flow_from_directory(train_dir,\n",
    "                                            batch_size=32,\n",
    "                                            target_size=(48,48),\n",
    "                                            shuffle=True,\n",
    "                                            color_mode=\"grayscale\",class_mode='categorical')\n",
    "\n",
    "\n",
    "val_datagen = ImageDataGenerator(rescale=1./255)\n",
    "val_set=val_datagen.flow_from_directory(val_dir,\n",
    "                                            batch_size=32,\n",
    "                                            target_size=(48,48),     \n",
    "                                            color_mode=\"grayscale\",class_mode='categorical')\n",
    "\n",
    "\n",
    "\n",
    "test_datagen = ImageDataGenerator(rescale=1./255)\n",
    "test_set = test_datagen.flow_from_directory(test_dir,\n",
    "                                            batch_size=32,\n",
    "                                            target_size=(48,48),\n",
    "                                            shuffle=True,\n",
    "                                            color_mode=\"grayscale\",class_mode='categorical')"
   ]
  },
  {
   "cell_type": "code",
   "execution_count": 28,
   "metadata": {
    "execution": {
     "iopub.execute_input": "2022-04-09T13:43:05.317500Z",
     "iopub.status.busy": "2022-04-09T13:43:05.317098Z",
     "iopub.status.idle": "2022-04-09T13:43:05.323624Z",
     "shell.execute_reply": "2022-04-09T13:43:05.322816Z",
     "shell.execute_reply.started": "2022-04-09T13:43:05.317459Z"
    }
   },
   "outputs": [
    {
     "data": {
      "text/plain": [
       "{'angry': 0,\n",
       " 'disgust': 1,\n",
       " 'fear': 2,\n",
       " 'happy': 3,\n",
       " 'neutral': 4,\n",
       " 'sad': 5,\n",
       " 'surprise': 6}"
      ]
     },
     "execution_count": 28,
     "metadata": {},
     "output_type": "execute_result"
    }
   ],
   "source": [
    "train_set.class_indices"
   ]
  },
  {
   "cell_type": "markdown",
   "metadata": {},
   "source": [
    "## MODEL-BUILDING"
   ]
  },
  {
   "cell_type": "code",
   "execution_count": 29,
   "metadata": {
    "execution": {
     "iopub.execute_input": "2022-04-09T13:43:05.327149Z",
     "iopub.status.busy": "2022-04-09T13:43:05.324642Z",
     "iopub.status.idle": "2022-04-09T13:43:05.334772Z",
     "shell.execute_reply": "2022-04-09T13:43:05.334059Z",
     "shell.execute_reply.started": "2022-04-09T13:43:05.327109Z"
    }
   },
   "outputs": [],
   "source": [
    "from keras.initializers import GlorotNormal\n",
    "from keras.layers import Input, Flatten, Dense, Activation, Conv2D, MaxPool2D, BatchNormalization, Dropout, MaxPooling2D\n"
   ]
  },
  {
   "cell_type": "code",
   "execution_count": 30,
   "metadata": {
    "execution": {
     "iopub.execute_input": "2022-04-09T13:43:05.337539Z",
     "iopub.status.busy": "2022-04-09T13:43:05.337114Z",
     "iopub.status.idle": "2022-04-09T13:43:05.355251Z",
     "shell.execute_reply": "2022-04-09T13:43:05.354421Z",
     "shell.execute_reply.started": "2022-04-09T13:43:05.337503Z"
    }
   },
   "outputs": [],
   "source": [
    "#initalising the CNN model\n",
    "\n",
    "def get_model(input_size, classes=7):\n",
    "     #BUILDING the CNN.\n",
    "    initializer = GlorotNormal()\n",
    "    activation = Activation('relu')\n",
    "    model = Sequential()\n",
    "    model.add(Conv2D(filters = 64, kernel_size = (3, 3), input_shape = input_size, padding = 'same', kernel_initializer=initializer))\n",
    "    model.add(BatchNormalization())\n",
    "    model.add(activation)\n",
    "\n",
    "    model.add(Conv2D(filters = 64, kernel_size = (3, 3), padding = 'same', kernel_initializer=initializer))\n",
    "    model.add(BatchNormalization())\n",
    "    model.add(activation)\n",
    "    model.add(MaxPooling2D((2, 2)))\n",
    "\n",
    "    model.add(Dropout(0.5))\n",
    "    model.add(Conv2D(filters = 128, kernel_size = (3, 3), padding = 'same', kernel_initializer=initializer))\n",
    "    model.add(BatchNormalization())\n",
    "    model.add(activation)\n",
    "    model.add(Conv2D(filters = 128, kernel_size = (3, 3), padding = 'same', kernel_initializer=initializer))\n",
    "    model.add(BatchNormalization())\n",
    "    model.add(activation)\n",
    "    model.add(MaxPooling2D((2, 2)))\n",
    "\n",
    "\n",
    "    model.add(Dropout(0.5))\n",
    "    model.add(Conv2D(filters = 256, kernel_size = (3, 3), padding = 'same', kernel_initializer=initializer))\n",
    "    model.add(BatchNormalization())\n",
    "    model.add(activation)\n",
    "    model.add(Conv2D(filters = 256, kernel_size = (3, 3), padding = 'same', kernel_initializer=initializer))\n",
    "    model.add(BatchNormalization())\n",
    "    model.add(activation)\n",
    "    model.add(MaxPooling2D((2, 2)))\n",
    "\n",
    "\n",
    "    model.add(Dropout(0.5))\n",
    "    model.add(Conv2D(filters = 512, kernel_size = (3, 3), padding = 'same', kernel_initializer=initializer))\n",
    "    model.add(BatchNormalization())\n",
    "    model.add(activation)\n",
    "    model.add(Conv2D(filters = 512, kernel_size = (3, 3), padding = 'same', kernel_initializer=initializer))\n",
    "    model.add(BatchNormalization())\n",
    "    model.add(activation)\n",
    "    model.add(MaxPooling2D((2, 2)))\n",
    "\n",
    "    model.add(tf.keras.layers.GlobalAveragePooling2D())\n",
    "\n",
    "    model.add(Dropout(0.5))\n",
    "    model.add(Dense(1024))\n",
    "    model.add(BatchNormalization())\n",
    "    model.add(activation)\n",
    "\n",
    "    model.add(Dense(7, activation='softmax'))\n",
    "    \n",
    "    #COMPLILING the CNN\n",
    "    model.compile(optimizer= Adam(learning_rate=0.0001),#tf.keras.optimizers.SGD(lr=0.01,momentum=0.9, decay=0.0001, nesterov=True), \n",
    "                  loss='categorical_crossentropy', \n",
    "                  metrics=['accuracy'])\n",
    "    return model"
   ]
  },
  {
   "cell_type": "code",
   "execution_count": 31,
   "metadata": {
    "execution": {
     "iopub.execute_input": "2022-04-09T13:43:05.358031Z",
     "iopub.status.busy": "2022-04-09T13:43:05.357480Z",
     "iopub.status.idle": "2022-04-09T13:43:05.585492Z",
     "shell.execute_reply": "2022-04-09T13:43:05.584785Z",
     "shell.execute_reply.started": "2022-04-09T13:43:05.357996Z"
    }
   },
   "outputs": [
    {
     "name": "stdout",
     "output_type": "stream",
     "text": [
      "Model: \"sequential_1\"\n",
      "_________________________________________________________________\n",
      "Layer (type)                 Output Shape              Param #   \n",
      "=================================================================\n",
      "conv2d_8 (Conv2D)            (None, 48, 48, 64)        640       \n",
      "_________________________________________________________________\n",
      "batch_normalization_9 (Batch (None, 48, 48, 64)        256       \n",
      "_________________________________________________________________\n",
      "activation_1 (Activation)    multiple                  0         \n",
      "_________________________________________________________________\n",
      "conv2d_9 (Conv2D)            (None, 48, 48, 64)        36928     \n",
      "_________________________________________________________________\n",
      "batch_normalization_10 (Batc (None, 48, 48, 64)        256       \n",
      "_________________________________________________________________\n",
      "max_pooling2d_4 (MaxPooling2 (None, 24, 24, 64)        0         \n",
      "_________________________________________________________________\n",
      "dropout_4 (Dropout)          (None, 24, 24, 64)        0         \n",
      "_________________________________________________________________\n",
      "conv2d_10 (Conv2D)           (None, 24, 24, 128)       73856     \n",
      "_________________________________________________________________\n",
      "batch_normalization_11 (Batc (None, 24, 24, 128)       512       \n",
      "_________________________________________________________________\n",
      "conv2d_11 (Conv2D)           (None, 24, 24, 128)       147584    \n",
      "_________________________________________________________________\n",
      "batch_normalization_12 (Batc (None, 24, 24, 128)       512       \n",
      "_________________________________________________________________\n",
      "max_pooling2d_5 (MaxPooling2 (None, 12, 12, 128)       0         \n",
      "_________________________________________________________________\n",
      "dropout_5 (Dropout)          (None, 12, 12, 128)       0         \n",
      "_________________________________________________________________\n",
      "conv2d_12 (Conv2D)           (None, 12, 12, 256)       295168    \n",
      "_________________________________________________________________\n",
      "batch_normalization_13 (Batc (None, 12, 12, 256)       1024      \n",
      "_________________________________________________________________\n",
      "conv2d_13 (Conv2D)           (None, 12, 12, 256)       590080    \n",
      "_________________________________________________________________\n",
      "batch_normalization_14 (Batc (None, 12, 12, 256)       1024      \n",
      "_________________________________________________________________\n",
      "max_pooling2d_6 (MaxPooling2 (None, 6, 6, 256)         0         \n",
      "_________________________________________________________________\n",
      "dropout_6 (Dropout)          (None, 6, 6, 256)         0         \n",
      "_________________________________________________________________\n",
      "conv2d_14 (Conv2D)           (None, 6, 6, 512)         1180160   \n",
      "_________________________________________________________________\n",
      "batch_normalization_15 (Batc (None, 6, 6, 512)         2048      \n",
      "_________________________________________________________________\n",
      "conv2d_15 (Conv2D)           (None, 6, 6, 512)         2359808   \n",
      "_________________________________________________________________\n",
      "batch_normalization_16 (Batc (None, 6, 6, 512)         2048      \n",
      "_________________________________________________________________\n",
      "max_pooling2d_7 (MaxPooling2 (None, 3, 3, 512)         0         \n",
      "_________________________________________________________________\n",
      "global_average_pooling2d_1 ( (None, 512)               0         \n",
      "_________________________________________________________________\n",
      "dropout_7 (Dropout)          (None, 512)               0         \n",
      "_________________________________________________________________\n",
      "dense_2 (Dense)              (None, 1024)              525312    \n",
      "_________________________________________________________________\n",
      "batch_normalization_17 (Batc (None, 1024)              4096      \n",
      "_________________________________________________________________\n",
      "dense_3 (Dense)              (None, 7)                 7175      \n",
      "=================================================================\n",
      "Total params: 5,228,487\n",
      "Trainable params: 5,222,599\n",
      "Non-trainable params: 5,888\n",
      "_________________________________________________________________\n"
     ]
    }
   ],
   "source": [
    "our_model = get_model((48,48,1),classes)\n",
    "our_model.summary()"
   ]
  },
  {
   "cell_type": "code",
   "execution_count": 32,
   "metadata": {
    "execution": {
     "iopub.execute_input": "2022-04-09T13:43:05.587166Z",
     "iopub.status.busy": "2022-04-09T13:43:05.586904Z",
     "iopub.status.idle": "2022-04-09T13:43:05.592569Z",
     "shell.execute_reply": "2022-04-09T13:43:05.591824Z",
     "shell.execute_reply.started": "2022-04-09T13:43:05.587130Z"
    }
   },
   "outputs": [],
   "source": [
    "# plot_model(our_model,to_file='Our Model Architecture.png',show_shapes=True,show_layer_names=True)"
   ]
  },
  {
   "cell_type": "code",
   "execution_count": 33,
   "metadata": {
    "execution": {
     "iopub.execute_input": "2022-04-09T13:43:05.594405Z",
     "iopub.status.busy": "2022-04-09T13:43:05.594099Z",
     "iopub.status.idle": "2022-04-09T13:43:05.599895Z",
     "shell.execute_reply": "2022-04-09T13:43:05.599012Z",
     "shell.execute_reply.started": "2022-04-09T13:43:05.594369Z"
    }
   },
   "outputs": [],
   "source": [
    "rlrop = keras.callbacks.ReduceLROnPlateau(monitor='val_acc',mode='max',factor=0.5, patience=10, min_lr=0.00001, verbose=1)\n",
    "callbacks_list = [rlrop]"
   ]
  },
  {
   "cell_type": "code",
   "execution_count": 34,
   "metadata": {
    "execution": {
     "iopub.execute_input": "2022-04-09T13:43:09.986515Z",
     "iopub.status.busy": "2022-04-09T13:43:09.986255Z",
     "iopub.status.idle": "2022-04-09T15:22:58.854430Z",
     "shell.execute_reply": "2022-04-09T15:22:58.853435Z",
     "shell.execute_reply.started": "2022-04-09T13:43:09.986485Z"
    }
   },
   "outputs": [
    {
     "name": "stdout",
     "output_type": "stream",
     "text": [
      "Epoch 1/150\n",
      "897/897 [==============================] - 41s 44ms/step - loss: 1.9190 - accuracy: 0.2247 - val_loss: 1.8477 - val_accuracy: 0.2257\n",
      "Epoch 2/150\n",
      "897/897 [==============================] - 39s 43ms/step - loss: 1.8314 - accuracy: 0.2454 - val_loss: 1.8187 - val_accuracy: 0.2556\n",
      "Epoch 3/150\n",
      "897/897 [==============================] - 39s 44ms/step - loss: 1.7806 - accuracy: 0.2723 - val_loss: 1.8109 - val_accuracy: 0.2966\n",
      "Epoch 4/150\n",
      "897/897 [==============================] - 39s 44ms/step - loss: 1.6818 - accuracy: 0.3330 - val_loss: 1.9965 - val_accuracy: 0.3156\n",
      "Epoch 5/150\n",
      "897/897 [==============================] - 39s 44ms/step - loss: 1.5694 - accuracy: 0.3903 - val_loss: 1.4728 - val_accuracy: 0.4222\n",
      "Epoch 6/150\n",
      "897/897 [==============================] - 38s 42ms/step - loss: 1.4921 - accuracy: 0.4251 - val_loss: 1.4334 - val_accuracy: 0.4461\n",
      "Epoch 7/150\n",
      "897/897 [==============================] - 39s 43ms/step - loss: 1.4400 - accuracy: 0.4501 - val_loss: 1.3750 - val_accuracy: 0.4916\n",
      "Epoch 8/150\n",
      "897/897 [==============================] - 39s 43ms/step - loss: 1.3938 - accuracy: 0.4692 - val_loss: 1.2952 - val_accuracy: 0.5045\n",
      "Epoch 9/150\n",
      "897/897 [==============================] - 39s 44ms/step - loss: 1.3467 - accuracy: 0.4875 - val_loss: 1.3287 - val_accuracy: 0.5050\n",
      "Epoch 10/150\n",
      "897/897 [==============================] - 38s 43ms/step - loss: 1.3237 - accuracy: 0.4942 - val_loss: 1.3001 - val_accuracy: 0.5042\n",
      "Epoch 11/150\n",
      "897/897 [==============================] - 39s 43ms/step - loss: 1.2972 - accuracy: 0.5074 - val_loss: 1.2475 - val_accuracy: 0.5226\n",
      "Epoch 12/150\n",
      "897/897 [==============================] - 39s 43ms/step - loss: 1.2746 - accuracy: 0.5147 - val_loss: 1.2493 - val_accuracy: 0.5391\n",
      "Epoch 13/150\n",
      "897/897 [==============================] - 41s 45ms/step - loss: 1.2473 - accuracy: 0.5218 - val_loss: 1.2323 - val_accuracy: 0.5427\n",
      "Epoch 14/150\n",
      "897/897 [==============================] - 41s 45ms/step - loss: 1.2383 - accuracy: 0.5258 - val_loss: 1.2106 - val_accuracy: 0.5472\n",
      "Epoch 15/150\n",
      "897/897 [==============================] - 42s 46ms/step - loss: 1.2185 - accuracy: 0.5360 - val_loss: 1.1914 - val_accuracy: 0.5444\n",
      "Epoch 16/150\n",
      "897/897 [==============================] - 40s 44ms/step - loss: 1.2070 - accuracy: 0.5405 - val_loss: 1.1521 - val_accuracy: 0.5698\n",
      "Epoch 17/150\n",
      "897/897 [==============================] - 39s 44ms/step - loss: 1.1900 - accuracy: 0.5480 - val_loss: 1.2239 - val_accuracy: 0.5377\n",
      "Epoch 18/150\n",
      "897/897 [==============================] - 40s 45ms/step - loss: 1.1792 - accuracy: 0.5505 - val_loss: 1.0826 - val_accuracy: 0.5809\n",
      "Epoch 19/150\n",
      "897/897 [==============================] - 41s 45ms/step - loss: 1.1710 - accuracy: 0.5553 - val_loss: 1.1006 - val_accuracy: 0.5781\n",
      "Epoch 20/150\n",
      "897/897 [==============================] - 40s 44ms/step - loss: 1.1585 - accuracy: 0.5584 - val_loss: 1.0577 - val_accuracy: 0.5968\n",
      "Epoch 21/150\n",
      "897/897 [==============================] - 39s 44ms/step - loss: 1.1454 - accuracy: 0.5636 - val_loss: 1.0929 - val_accuracy: 0.5790\n",
      "Epoch 22/150\n",
      "897/897 [==============================] - 39s 44ms/step - loss: 1.1339 - accuracy: 0.5691 - val_loss: 1.1087 - val_accuracy: 0.5820\n",
      "Epoch 23/150\n",
      "897/897 [==============================] - 39s 43ms/step - loss: 1.1237 - accuracy: 0.5770 - val_loss: 1.0579 - val_accuracy: 0.5979\n",
      "Epoch 24/150\n",
      "897/897 [==============================] - 40s 44ms/step - loss: 1.1228 - accuracy: 0.5754 - val_loss: 1.1178 - val_accuracy: 0.5801\n",
      "Epoch 25/150\n",
      "897/897 [==============================] - 39s 44ms/step - loss: 1.1124 - accuracy: 0.5763 - val_loss: 1.0321 - val_accuracy: 0.5991\n",
      "Epoch 26/150\n",
      "897/897 [==============================] - 39s 43ms/step - loss: 1.1036 - accuracy: 0.5798 - val_loss: 1.0937 - val_accuracy: 0.5890\n",
      "Epoch 27/150\n",
      "897/897 [==============================] - 40s 45ms/step - loss: 1.0940 - accuracy: 0.5866 - val_loss: 1.0346 - val_accuracy: 0.6116\n",
      "Epoch 28/150\n",
      "897/897 [==============================] - 40s 44ms/step - loss: 1.0876 - accuracy: 0.5858 - val_loss: 1.0881 - val_accuracy: 0.5963\n",
      "Epoch 29/150\n",
      "897/897 [==============================] - 40s 44ms/step - loss: 1.0786 - accuracy: 0.5925 - val_loss: 1.0828 - val_accuracy: 0.5929\n",
      "Epoch 30/150\n",
      "897/897 [==============================] - 41s 46ms/step - loss: 1.0680 - accuracy: 0.5967 - val_loss: 1.0217 - val_accuracy: 0.6147\n",
      "Epoch 31/150\n",
      "897/897 [==============================] - 41s 46ms/step - loss: 1.0711 - accuracy: 0.5940 - val_loss: 1.0559 - val_accuracy: 0.6021\n",
      "Epoch 32/150\n",
      "897/897 [==============================] - 43s 47ms/step - loss: 1.0593 - accuracy: 0.5995 - val_loss: 1.0519 - val_accuracy: 0.6110\n",
      "Epoch 33/150\n",
      "897/897 [==============================] - 40s 45ms/step - loss: 1.0534 - accuracy: 0.5998 - val_loss: 1.0873 - val_accuracy: 0.6041\n",
      "Epoch 34/150\n",
      "897/897 [==============================] - 40s 45ms/step - loss: 1.0436 - accuracy: 0.6058 - val_loss: 1.1549 - val_accuracy: 0.5915\n",
      "Epoch 35/150\n",
      "897/897 [==============================] - 41s 45ms/step - loss: 1.0426 - accuracy: 0.6055 - val_loss: 1.0014 - val_accuracy: 0.6242\n",
      "Epoch 36/150\n",
      "897/897 [==============================] - 39s 43ms/step - loss: 1.0309 - accuracy: 0.6121 - val_loss: 1.0045 - val_accuracy: 0.6214\n",
      "Epoch 37/150\n",
      "897/897 [==============================] - 39s 43ms/step - loss: 1.0296 - accuracy: 0.6106 - val_loss: 0.9890 - val_accuracy: 0.6197\n",
      "Epoch 38/150\n",
      "897/897 [==============================] - 39s 44ms/step - loss: 1.0201 - accuracy: 0.6170 - val_loss: 0.9922 - val_accuracy: 0.6272\n",
      "Epoch 39/150\n",
      "897/897 [==============================] - 39s 43ms/step - loss: 1.0213 - accuracy: 0.6149 - val_loss: 0.9774 - val_accuracy: 0.6345\n",
      "Epoch 40/150\n",
      "897/897 [==============================] - 39s 44ms/step - loss: 1.0159 - accuracy: 0.6144 - val_loss: 0.9710 - val_accuracy: 0.6314\n",
      "Epoch 41/150\n",
      "897/897 [==============================] - 39s 43ms/step - loss: 1.0107 - accuracy: 0.6153 - val_loss: 1.0307 - val_accuracy: 0.6124\n",
      "Epoch 42/150\n",
      "897/897 [==============================] - 39s 44ms/step - loss: 1.0093 - accuracy: 0.6167 - val_loss: 0.9914 - val_accuracy: 0.6264\n",
      "Epoch 43/150\n",
      "897/897 [==============================] - 41s 45ms/step - loss: 0.9982 - accuracy: 0.6266 - val_loss: 1.0001 - val_accuracy: 0.6205\n",
      "Epoch 44/150\n",
      "897/897 [==============================] - 40s 44ms/step - loss: 1.0056 - accuracy: 0.6228 - val_loss: 1.0105 - val_accuracy: 0.6161\n",
      "Epoch 45/150\n",
      "897/897 [==============================] - 40s 45ms/step - loss: 0.9962 - accuracy: 0.6250 - val_loss: 1.0618 - val_accuracy: 0.6057\n",
      "Epoch 46/150\n",
      "897/897 [==============================] - 39s 44ms/step - loss: 0.9899 - accuracy: 0.6275 - val_loss: 1.0128 - val_accuracy: 0.6278\n",
      "Epoch 47/150\n",
      "897/897 [==============================] - 39s 43ms/step - loss: 0.9865 - accuracy: 0.6266 - val_loss: 0.9902 - val_accuracy: 0.6292\n",
      "Epoch 48/150\n",
      "897/897 [==============================] - 39s 43ms/step - loss: 0.9837 - accuracy: 0.6309 - val_loss: 0.9728 - val_accuracy: 0.6362\n",
      "Epoch 49/150\n",
      "897/897 [==============================] - 39s 43ms/step - loss: 0.9764 - accuracy: 0.6329 - val_loss: 0.9646 - val_accuracy: 0.6325\n",
      "Epoch 50/150\n",
      "897/897 [==============================] - 39s 44ms/step - loss: 0.9679 - accuracy: 0.6350 - val_loss: 0.9934 - val_accuracy: 0.6283\n",
      "Epoch 51/150\n",
      "897/897 [==============================] - 39s 44ms/step - loss: 0.9664 - accuracy: 0.6364 - val_loss: 0.9885 - val_accuracy: 0.6323\n",
      "Epoch 52/150\n",
      "897/897 [==============================] - 39s 44ms/step - loss: 0.9632 - accuracy: 0.6363 - val_loss: 0.9665 - val_accuracy: 0.6493\n",
      "Epoch 53/150\n",
      "897/897 [==============================] - 39s 44ms/step - loss: 0.9509 - accuracy: 0.6444 - val_loss: 0.9944 - val_accuracy: 0.6236\n",
      "Epoch 54/150\n",
      "897/897 [==============================] - 39s 43ms/step - loss: 0.9565 - accuracy: 0.6422 - val_loss: 0.9761 - val_accuracy: 0.6443\n",
      "Epoch 55/150\n",
      "897/897 [==============================] - 39s 43ms/step - loss: 0.9542 - accuracy: 0.6411 - val_loss: 0.9358 - val_accuracy: 0.6496\n",
      "Epoch 56/150\n",
      "897/897 [==============================] - 39s 44ms/step - loss: 0.9489 - accuracy: 0.6431 - val_loss: 0.9434 - val_accuracy: 0.6465\n",
      "Epoch 57/150\n",
      "897/897 [==============================] - 41s 46ms/step - loss: 0.9503 - accuracy: 0.6428 - val_loss: 0.9572 - val_accuracy: 0.6403\n",
      "Epoch 58/150\n",
      "897/897 [==============================] - 41s 46ms/step - loss: 0.9392 - accuracy: 0.6449 - val_loss: 0.9670 - val_accuracy: 0.6387\n",
      "Epoch 59/150\n",
      "897/897 [==============================] - 41s 45ms/step - loss: 0.9363 - accuracy: 0.6469 - val_loss: 0.9725 - val_accuracy: 0.6359\n",
      "Epoch 60/150\n",
      "897/897 [==============================] - 39s 43ms/step - loss: 0.9327 - accuracy: 0.6471 - val_loss: 0.9688 - val_accuracy: 0.6434\n",
      "Epoch 61/150\n",
      "897/897 [==============================] - 39s 43ms/step - loss: 0.9290 - accuracy: 0.6517 - val_loss: 0.9701 - val_accuracy: 0.6401\n",
      "Epoch 62/150\n",
      "897/897 [==============================] - 39s 43ms/step - loss: 0.9264 - accuracy: 0.6522 - val_loss: 0.9756 - val_accuracy: 0.6348\n",
      "Epoch 63/150\n",
      "897/897 [==============================] - 39s 43ms/step - loss: 0.9256 - accuracy: 0.6524 - val_loss: 0.9228 - val_accuracy: 0.6526\n",
      "Epoch 64/150\n",
      "897/897 [==============================] - 39s 44ms/step - loss: 0.9146 - accuracy: 0.6548 - val_loss: 0.9538 - val_accuracy: 0.6451\n",
      "Epoch 65/150\n",
      "897/897 [==============================] - 39s 44ms/step - loss: 0.9146 - accuracy: 0.6567 - val_loss: 0.9314 - val_accuracy: 0.6535\n",
      "Epoch 66/150\n",
      "897/897 [==============================] - 39s 43ms/step - loss: 0.9204 - accuracy: 0.6529 - val_loss: 0.9737 - val_accuracy: 0.6459\n",
      "Epoch 67/150\n",
      "897/897 [==============================] - 39s 44ms/step - loss: 0.9105 - accuracy: 0.6589 - val_loss: 0.9472 - val_accuracy: 0.6479\n",
      "Epoch 68/150\n",
      "897/897 [==============================] - 39s 43ms/step - loss: 0.9044 - accuracy: 0.6610 - val_loss: 0.9651 - val_accuracy: 0.6440\n",
      "Epoch 69/150\n",
      "897/897 [==============================] - 40s 44ms/step - loss: 0.9063 - accuracy: 0.6582 - val_loss: 0.9206 - val_accuracy: 0.6596\n",
      "Epoch 70/150\n",
      "897/897 [==============================] - 39s 43ms/step - loss: 0.8968 - accuracy: 0.6646 - val_loss: 0.9282 - val_accuracy: 0.6546\n",
      "Epoch 71/150\n",
      "897/897 [==============================] - 38s 42ms/step - loss: 0.8988 - accuracy: 0.6622 - val_loss: 0.9659 - val_accuracy: 0.6403\n",
      "Epoch 72/150\n",
      "897/897 [==============================] - 39s 43ms/step - loss: 0.8988 - accuracy: 0.6617 - val_loss: 0.9550 - val_accuracy: 0.6487\n",
      "Epoch 73/150\n",
      "897/897 [==============================] - 39s 44ms/step - loss: 0.8921 - accuracy: 0.6633 - val_loss: 0.9466 - val_accuracy: 0.6549\n",
      "Epoch 74/150\n",
      "897/897 [==============================] - 39s 44ms/step - loss: 0.8911 - accuracy: 0.6632 - val_loss: 0.9177 - val_accuracy: 0.6613\n",
      "Epoch 75/150\n",
      "897/897 [==============================] - 39s 44ms/step - loss: 0.8820 - accuracy: 0.6681 - val_loss: 0.9413 - val_accuracy: 0.6498\n",
      "Epoch 76/150\n",
      "897/897 [==============================] - 38s 43ms/step - loss: 0.8870 - accuracy: 0.6681 - val_loss: 0.9076 - val_accuracy: 0.6652\n",
      "Epoch 77/150\n",
      "897/897 [==============================] - 38s 43ms/step - loss: 0.8812 - accuracy: 0.6691 - val_loss: 0.9352 - val_accuracy: 0.6655\n",
      "Epoch 78/150\n",
      "897/897 [==============================] - 39s 43ms/step - loss: 0.8789 - accuracy: 0.6712 - val_loss: 0.9387 - val_accuracy: 0.6504\n",
      "Epoch 79/150\n",
      "897/897 [==============================] - 39s 44ms/step - loss: 0.8767 - accuracy: 0.6683 - val_loss: 0.9262 - val_accuracy: 0.6526\n",
      "Epoch 80/150\n",
      "897/897 [==============================] - 39s 44ms/step - loss: 0.8730 - accuracy: 0.6731 - val_loss: 0.9105 - val_accuracy: 0.6607\n",
      "Epoch 81/150\n",
      "897/897 [==============================] - 39s 44ms/step - loss: 0.8702 - accuracy: 0.6735 - val_loss: 0.9124 - val_accuracy: 0.6621\n",
      "Epoch 82/150\n",
      "897/897 [==============================] - 39s 43ms/step - loss: 0.8705 - accuracy: 0.6716 - val_loss: 0.9353 - val_accuracy: 0.6504\n",
      "Epoch 83/150\n",
      "897/897 [==============================] - 39s 43ms/step - loss: 0.8647 - accuracy: 0.6749 - val_loss: 0.9473 - val_accuracy: 0.6443\n",
      "Epoch 84/150\n",
      "897/897 [==============================] - 39s 44ms/step - loss: 0.8612 - accuracy: 0.6761 - val_loss: 0.9062 - val_accuracy: 0.6613\n",
      "Epoch 85/150\n",
      "897/897 [==============================] - 39s 44ms/step - loss: 0.8618 - accuracy: 0.6790 - val_loss: 0.9072 - val_accuracy: 0.6568\n",
      "Epoch 86/150\n",
      "897/897 [==============================] - 39s 43ms/step - loss: 0.8601 - accuracy: 0.6772 - val_loss: 0.9336 - val_accuracy: 0.6627\n",
      "Epoch 87/150\n",
      "897/897 [==============================] - 39s 43ms/step - loss: 0.8602 - accuracy: 0.6802 - val_loss: 0.9393 - val_accuracy: 0.6540\n",
      "Epoch 88/150\n",
      "897/897 [==============================] - 39s 44ms/step - loss: 0.8546 - accuracy: 0.6800 - val_loss: 0.9410 - val_accuracy: 0.6476\n",
      "Epoch 89/150\n",
      "897/897 [==============================] - 39s 43ms/step - loss: 0.8576 - accuracy: 0.6794 - val_loss: 0.9213 - val_accuracy: 0.6590\n",
      "Epoch 90/150\n",
      "897/897 [==============================] - 39s 43ms/step - loss: 0.8469 - accuracy: 0.6829 - val_loss: 0.9540 - val_accuracy: 0.6431\n",
      "Epoch 91/150\n",
      "897/897 [==============================] - 39s 43ms/step - loss: 0.8446 - accuracy: 0.6833 - val_loss: 0.9582 - val_accuracy: 0.6448\n",
      "Epoch 92/150\n",
      "897/897 [==============================] - 38s 43ms/step - loss: 0.8436 - accuracy: 0.6857 - val_loss: 0.9247 - val_accuracy: 0.6649\n",
      "Epoch 93/150\n",
      "897/897 [==============================] - 40s 44ms/step - loss: 0.8421 - accuracy: 0.6836 - val_loss: 0.9133 - val_accuracy: 0.6643\n",
      "Epoch 94/150\n",
      "897/897 [==============================] - 39s 43ms/step - loss: 0.8393 - accuracy: 0.6827 - val_loss: 0.9123 - val_accuracy: 0.6574\n",
      "Epoch 95/150\n",
      "897/897 [==============================] - 41s 45ms/step - loss: 0.8357 - accuracy: 0.6879 - val_loss: 0.9121 - val_accuracy: 0.6568\n",
      "Epoch 96/150\n",
      "897/897 [==============================] - 39s 43ms/step - loss: 0.8313 - accuracy: 0.6889 - val_loss: 0.9245 - val_accuracy: 0.6590\n",
      "Epoch 97/150\n",
      "897/897 [==============================] - 40s 45ms/step - loss: 0.8294 - accuracy: 0.6907 - val_loss: 0.9086 - val_accuracy: 0.6666\n",
      "Epoch 98/150\n",
      "897/897 [==============================] - 40s 45ms/step - loss: 0.8282 - accuracy: 0.6881 - val_loss: 0.9159 - val_accuracy: 0.6643\n",
      "Epoch 99/150\n",
      "897/897 [==============================] - 41s 46ms/step - loss: 0.8239 - accuracy: 0.6890 - val_loss: 0.9073 - val_accuracy: 0.6660\n",
      "Epoch 100/150\n",
      "897/897 [==============================] - 39s 43ms/step - loss: 0.8165 - accuracy: 0.6938 - val_loss: 0.9270 - val_accuracy: 0.6616\n",
      "Epoch 101/150\n",
      "897/897 [==============================] - 39s 44ms/step - loss: 0.8172 - accuracy: 0.6950 - val_loss: 0.9183 - val_accuracy: 0.6638\n",
      "Epoch 102/150\n",
      "897/897 [==============================] - 40s 45ms/step - loss: 0.8083 - accuracy: 0.6974 - val_loss: 0.9396 - val_accuracy: 0.6674\n",
      "Epoch 103/150\n",
      "897/897 [==============================] - 41s 45ms/step - loss: 0.8029 - accuracy: 0.7008 - val_loss: 0.9241 - val_accuracy: 0.6669\n",
      "Epoch 104/150\n",
      "897/897 [==============================] - 40s 45ms/step - loss: 0.8061 - accuracy: 0.7031 - val_loss: 0.9233 - val_accuracy: 0.6621\n",
      "Epoch 105/150\n",
      "897/897 [==============================] - 39s 43ms/step - loss: 0.8034 - accuracy: 0.6972 - val_loss: 0.9467 - val_accuracy: 0.6571\n",
      "Epoch 106/150\n",
      "897/897 [==============================] - 39s 43ms/step - loss: 0.8043 - accuracy: 0.6993 - val_loss: 0.9480 - val_accuracy: 0.6579\n",
      "Epoch 107/150\n",
      "897/897 [==============================] - 39s 43ms/step - loss: 0.8072 - accuracy: 0.6987 - val_loss: 0.9044 - val_accuracy: 0.6677\n",
      "Epoch 108/150\n",
      "897/897 [==============================] - 39s 44ms/step - loss: 0.8013 - accuracy: 0.7005 - val_loss: 0.9380 - val_accuracy: 0.6624\n",
      "Epoch 109/150\n",
      "897/897 [==============================] - 39s 43ms/step - loss: 0.7942 - accuracy: 0.7031 - val_loss: 0.9212 - val_accuracy: 0.6699\n",
      "Epoch 110/150\n",
      "897/897 [==============================] - 39s 44ms/step - loss: 0.7933 - accuracy: 0.7054 - val_loss: 0.9038 - val_accuracy: 0.6691\n",
      "Epoch 111/150\n",
      "897/897 [==============================] - 39s 44ms/step - loss: 0.7985 - accuracy: 0.6996 - val_loss: 0.9096 - val_accuracy: 0.6710\n",
      "Epoch 112/150\n",
      "897/897 [==============================] - 41s 46ms/step - loss: 0.7903 - accuracy: 0.7060 - val_loss: 0.9236 - val_accuracy: 0.6663\n",
      "Epoch 113/150\n",
      "897/897 [==============================] - 40s 45ms/step - loss: 0.7947 - accuracy: 0.7047 - val_loss: 0.9510 - val_accuracy: 0.6568\n",
      "Epoch 114/150\n",
      "897/897 [==============================] - 39s 43ms/step - loss: 0.7849 - accuracy: 0.7038 - val_loss: 0.9513 - val_accuracy: 0.6557\n",
      "Epoch 115/150\n",
      "897/897 [==============================] - 39s 43ms/step - loss: 0.7851 - accuracy: 0.7078 - val_loss: 0.9616 - val_accuracy: 0.6518\n",
      "Epoch 116/150\n",
      "897/897 [==============================] - 39s 44ms/step - loss: 0.7828 - accuracy: 0.7046 - val_loss: 0.9294 - val_accuracy: 0.6705\n",
      "Epoch 117/150\n",
      "897/897 [==============================] - 39s 44ms/step - loss: 0.7772 - accuracy: 0.7107 - val_loss: 0.9532 - val_accuracy: 0.6496\n",
      "Epoch 118/150\n",
      "897/897 [==============================] - 38s 43ms/step - loss: 0.7814 - accuracy: 0.7104 - val_loss: 0.9160 - val_accuracy: 0.6669\n",
      "Epoch 119/150\n",
      "897/897 [==============================] - 39s 43ms/step - loss: 0.7745 - accuracy: 0.7100 - val_loss: 0.9097 - val_accuracy: 0.6646\n",
      "Epoch 120/150\n",
      "897/897 [==============================] - 39s 43ms/step - loss: 0.7735 - accuracy: 0.7080 - val_loss: 0.9417 - val_accuracy: 0.6526\n",
      "Epoch 121/150\n",
      "897/897 [==============================] - 39s 43ms/step - loss: 0.7719 - accuracy: 0.7109 - val_loss: 0.9287 - val_accuracy: 0.6607\n",
      "Epoch 122/150\n",
      "897/897 [==============================] - 41s 45ms/step - loss: 0.7676 - accuracy: 0.7143 - val_loss: 0.9676 - val_accuracy: 0.6537\n",
      "Epoch 123/150\n",
      "897/897 [==============================] - 39s 44ms/step - loss: 0.7673 - accuracy: 0.7130 - val_loss: 0.9610 - val_accuracy: 0.6507\n",
      "Epoch 124/150\n",
      "897/897 [==============================] - 39s 44ms/step - loss: 0.7632 - accuracy: 0.7144 - val_loss: 0.9320 - val_accuracy: 0.6649\n",
      "Epoch 125/150\n",
      "897/897 [==============================] - 39s 44ms/step - loss: 0.7603 - accuracy: 0.7137 - val_loss: 0.9317 - val_accuracy: 0.6691\n",
      "Epoch 126/150\n",
      "897/897 [==============================] - 39s 44ms/step - loss: 0.7594 - accuracy: 0.7132 - val_loss: 0.9156 - val_accuracy: 0.6722\n",
      "Epoch 127/150\n",
      "897/897 [==============================] - 39s 44ms/step - loss: 0.7607 - accuracy: 0.7196 - val_loss: 0.9380 - val_accuracy: 0.6643\n",
      "Epoch 128/150\n",
      "897/897 [==============================] - 40s 44ms/step - loss: 0.7550 - accuracy: 0.7198 - val_loss: 0.9402 - val_accuracy: 0.6643\n",
      "Epoch 129/150\n",
      "897/897 [==============================] - 40s 44ms/step - loss: 0.7530 - accuracy: 0.7198 - val_loss: 0.9259 - val_accuracy: 0.6713\n",
      "Epoch 130/150\n",
      "897/897 [==============================] - 40s 44ms/step - loss: 0.7518 - accuracy: 0.7236 - val_loss: 0.9368 - val_accuracy: 0.6696\n",
      "Epoch 131/150\n",
      "897/897 [==============================] - 39s 44ms/step - loss: 0.7498 - accuracy: 0.7196 - val_loss: 0.9311 - val_accuracy: 0.6747\n",
      "Epoch 132/150\n",
      "897/897 [==============================] - 38s 43ms/step - loss: 0.7467 - accuracy: 0.7229 - val_loss: 0.9512 - val_accuracy: 0.6616\n",
      "Epoch 133/150\n",
      "897/897 [==============================] - 39s 44ms/step - loss: 0.7433 - accuracy: 0.7203 - val_loss: 0.9250 - val_accuracy: 0.6761\n",
      "Epoch 134/150\n",
      "897/897 [==============================] - 39s 44ms/step - loss: 0.7418 - accuracy: 0.7240 - val_loss: 0.9032 - val_accuracy: 0.6741\n",
      "Epoch 135/150\n",
      "897/897 [==============================] - 39s 43ms/step - loss: 0.7401 - accuracy: 0.7227 - val_loss: 0.9997 - val_accuracy: 0.6568\n",
      "Epoch 136/150\n",
      "897/897 [==============================] - 39s 43ms/step - loss: 0.7330 - accuracy: 0.7269 - val_loss: 0.9524 - val_accuracy: 0.6713\n",
      "Epoch 137/150\n",
      "897/897 [==============================] - 38s 43ms/step - loss: 0.7318 - accuracy: 0.7271 - val_loss: 0.9371 - val_accuracy: 0.6735\n",
      "Epoch 138/150\n",
      "897/897 [==============================] - 38s 43ms/step - loss: 0.7358 - accuracy: 0.7226 - val_loss: 0.9455 - val_accuracy: 0.6716\n",
      "Epoch 139/150\n",
      "897/897 [==============================] - 39s 43ms/step - loss: 0.7294 - accuracy: 0.7267 - val_loss: 0.9372 - val_accuracy: 0.6696\n",
      "Epoch 140/150\n",
      "897/897 [==============================] - 38s 43ms/step - loss: 0.7296 - accuracy: 0.7255 - val_loss: 0.9150 - val_accuracy: 0.6808\n",
      "Epoch 141/150\n",
      "897/897 [==============================] - 39s 43ms/step - loss: 0.7232 - accuracy: 0.7266 - val_loss: 0.9355 - val_accuracy: 0.6755\n",
      "Epoch 142/150\n",
      "897/897 [==============================] - 39s 44ms/step - loss: 0.7218 - accuracy: 0.7279 - val_loss: 0.9770 - val_accuracy: 0.6652\n",
      "Epoch 143/150\n",
      "897/897 [==============================] - 40s 44ms/step - loss: 0.7233 - accuracy: 0.7294 - val_loss: 0.9097 - val_accuracy: 0.6828\n",
      "Epoch 144/150\n",
      "897/897 [==============================] - 39s 43ms/step - loss: 0.7160 - accuracy: 0.7335 - val_loss: 0.9310 - val_accuracy: 0.6674\n",
      "Epoch 145/150\n",
      "897/897 [==============================] - 41s 46ms/step - loss: 0.7223 - accuracy: 0.7281 - val_loss: 0.9379 - val_accuracy: 0.6699\n",
      "Epoch 146/150\n",
      "897/897 [==============================] - 40s 44ms/step - loss: 0.7103 - accuracy: 0.7367 - val_loss: 0.9356 - val_accuracy: 0.6777\n",
      "Epoch 147/150\n",
      "897/897 [==============================] - 39s 44ms/step - loss: 0.7149 - accuracy: 0.7364 - val_loss: 0.9562 - val_accuracy: 0.6660\n",
      "Epoch 148/150\n",
      "897/897 [==============================] - 39s 43ms/step - loss: 0.7180 - accuracy: 0.7308 - val_loss: 0.9296 - val_accuracy: 0.6694\n",
      "Epoch 149/150\n",
      "897/897 [==============================] - 38s 43ms/step - loss: 0.7077 - accuracy: 0.7330 - val_loss: 0.9550 - val_accuracy: 0.6727\n",
      "Epoch 150/150\n",
      "897/897 [==============================] - 39s 44ms/step - loss: 0.6987 - accuracy: 0.7378 - val_loss: 0.9414 - val_accuracy: 0.6724\n"
     ]
    }
   ],
   "source": [
    "\n",
    "steps_per_epoch = train_set.n // 32\n",
    "validation_steps = val_set.n // 32\n",
    "\n",
    "mod = our_model.fit(x=train_set,\n",
    "                        validation_data=val_set,\n",
    "                        epochs=150,\n",
    "                        shuffle=True,\n",
    "                        steps_per_epoch=steps_per_epoch,\n",
    "                        validation_steps=validation_steps,\n",
    "                        callbacks=[rlrop],\n",
    "                        use_multiprocessing=True\n",
    "                   )\n",
    "\n"
   ]
  },
  {
   "cell_type": "code",
   "execution_count": null,
   "metadata": {},
   "outputs": [],
   "source": []
  },
  {
   "cell_type": "code",
   "execution_count": 35,
   "metadata": {
    "execution": {
     "iopub.execute_input": "2022-04-09T15:22:58.859423Z",
     "iopub.status.busy": "2022-04-09T15:22:58.859130Z",
     "iopub.status.idle": "2022-04-09T15:22:58.863793Z",
     "shell.execute_reply": "2022-04-09T15:22:58.863059Z",
     "shell.execute_reply.started": "2022-04-09T15:22:58.859389Z"
    }
   },
   "outputs": [],
   "source": [
    "# model_json=our_model.to_json()\n",
    "# with open(\"model.json\",\"w\") as json_file:\n",
    "#     json_file.write(model_json)"
   ]
  },
  {
   "cell_type": "code",
   "execution_count": 36,
   "metadata": {
    "execution": {
     "iopub.execute_input": "2022-04-09T15:22:58.866036Z",
     "iopub.status.busy": "2022-04-09T15:22:58.865490Z",
     "iopub.status.idle": "2022-04-09T15:22:58.875729Z",
     "shell.execute_reply": "2022-04-09T15:22:58.874910Z",
     "shell.execute_reply.started": "2022-04-09T15:22:58.865998Z"
    }
   },
   "outputs": [],
   "source": [
    "# our_model.save_weights('model_best_weights.h5')"
   ]
  },
  {
   "cell_type": "markdown",
   "metadata": {},
   "source": [
    "### PERFORMANCE PLOT"
   ]
  },
  {
   "cell_type": "code",
   "execution_count": 37,
   "metadata": {
    "execution": {
     "iopub.execute_input": "2022-04-09T15:22:58.878221Z",
     "iopub.status.busy": "2022-04-09T15:22:58.877956Z",
     "iopub.status.idle": "2022-04-09T15:22:59.237653Z",
     "shell.execute_reply": "2022-04-09T15:22:59.236984Z",
     "shell.execute_reply.started": "2022-04-09T15:22:58.878186Z"
    }
   },
   "outputs": [
    {
     "data": {
      "image/png": "[encoded data removed]",
      "text/plain": [
       "<Figure size 1008x360 with 2 Axes>"
      ]
     },
     "metadata": {
      "needs_background": "light"
     },
     "output_type": "display_data"
    }
   ],
   "source": [
    "plt.figure(figsize=(14,5))\n",
    "plt.subplot(1,2,2)\n",
    "plt.plot(mod.history['accuracy'])\n",
    "plt.plot(mod.history['val_accuracy'])\n",
    "plt.title('Model Accuracy')\n",
    "plt.xlabel('Epochs')\n",
    "plt.ylabel('Accuracy')\n",
    "plt.legend(['train', 'test'], loc='upper left')\n",
    "\n",
    "plt.subplot(1,2,1)\n",
    "plt.plot(mod.history['loss'])\n",
    "plt.plot(mod.history['val_loss'])\n",
    "plt.title('model Loss')\n",
    "plt.xlabel('Epochs')\n",
    "plt.ylabel('Loss')\n",
    "plt.legend(['train', 'test'], loc='upper left')\n",
    "plt.show()"
   ]
  },
  {
   "cell_type": "code",
   "execution_count": 38,
   "metadata": {
    "execution": {
     "iopub.execute_input": "2022-04-09T15:22:59.239145Z",
     "iopub.status.busy": "2022-04-09T15:22:59.238813Z",
     "iopub.status.idle": "2022-04-09T15:23:47.882472Z",
     "shell.execute_reply": "2022-04-09T15:23:47.881645Z",
     "shell.execute_reply.started": "2022-04-09T15:22:59.239106Z"
    }
   },
   "outputs": [
    {
     "name": "stdout",
     "output_type": "stream",
     "text": [
      "898/898 [==============================] - 33s 37ms/step - loss: 0.5266 - accuracy: 0.8012\n",
      "113/113 [==============================] - 3s 24ms/step - loss: 0.9413 - accuracy: 0.6723\n",
      "113/113 [==============================] - 7s 64ms/step - loss: 0.9022 - accuracy: 0.6955\n",
      "final train accuracy = 80.12 , validation accuracy = 67.23, Test accuracy = 69.55\n"
     ]
    }
   ],
   "source": [
    "train_loss, train_accu = our_model.evaluate(train_set)\n",
    "val_loss, val_accu = our_model.evaluate(val_set)\n",
    "test_loss, test_accu = our_model.evaluate(test_set)\n",
    "print(\"final train accuracy = {:.2f} , validation accuracy = {:.2f}, Test accuracy = {:.2f}\".format(train_accu*100, val_accu*100, test_accu*100))"
   ]
  },
  {
   "cell_type": "code",
   "execution_count": 19,
   "metadata": {
    "execution": {
     "iopub.execute_input": "2022-04-09T13:40:54.186822Z",
     "iopub.status.busy": "2022-04-09T13:40:54.186266Z",
     "iopub.status.idle": "2022-04-09T13:41:24.428354Z",
     "shell.execute_reply": "2022-04-09T13:41:24.427677Z",
     "shell.execute_reply.started": "2022-04-09T13:40:54.186781Z"
    }
   },
   "outputs": [
    {
     "name": "stdout",
     "output_type": "stream",
     "text": [
      "Confusion Matrix\n",
      "[[ 224  165   50 1255  855 1130  316]\n",
      " [  22   18    3  143   95  118   37]\n",
      " [ 249  159   49 1271  861 1152  356]\n",
      " [ 406  287   91 2215 1524 2059  633]\n",
      " [ 252  220   56 1562 1131 1335  409]\n",
      " [ 273  205   53 1489 1036 1321  453]\n",
      " [ 184  112   26  986  712  897  254]]\n",
      "Classification Report\n",
      "              precision    recall  f1-score   support\n",
      "\n",
      "       angry       0.14      0.06      0.08      3995\n",
      "     disgust       0.02      0.04      0.02       436\n",
      "        fear       0.15      0.01      0.02      4097\n",
      "       happy       0.25      0.31      0.27      7215\n",
      "     neutral       0.18      0.23      0.20      4965\n",
      "         sad       0.16      0.27      0.21      4830\n",
      "    surprise       0.10      0.08      0.09      3171\n",
      "\n",
      "    accuracy                           0.18     28709\n",
      "   macro avg       0.14      0.14      0.13     28709\n",
      "weighted avg       0.17      0.18      0.16     28709\n",
      "\n"
     ]
    },
    {
     "data": {
      "image/png": "[encoded data removed]",
      "text/plain": [
       "<Figure size 576x576 with 2 Axes>"
      ]
     },
     "metadata": {
      "needs_background": "light"
     },
     "output_type": "display_data"
    }
   ],
   "source": [
    "#ON TRAINING SET\n",
    "y_pred = our_model.predict(train_set)\n",
    "y_pred = np.argmax(y_pred, axis=1)\n",
    "class_labels = test_set.class_indices\n",
    "class_labels = {v:k for k,v in class_labels.items()}\n",
    "\n",
    "from sklearn.metrics import classification_report, confusion_matrix\n",
    "cm_train = confusion_matrix(train_set.classes, y_pred)\n",
    "print('Confusion Matrix')\n",
    "print(cm_train)\n",
    "print('Classification Report')\n",
    "target_names = list(class_labels.values())\n",
    "print(classification_report(train_set.classes, y_pred, target_names=target_names))\n",
    "\n",
    "plt.figure(figsize=(8,8))\n",
    "plt.imshow(cm_train, interpolation='nearest')\n",
    "plt.colorbar()\n",
    "tick_mark = np.arange(len(target_names))\n",
    "_ = plt.xticks(tick_mark, target_names, rotation=90)\n",
    "_ = plt.yticks(tick_mark, target_names)"
   ]
  },
  {
   "cell_type": "code",
   "execution_count": 20,
   "metadata": {
    "execution": {
     "iopub.execute_input": "2022-04-09T13:41:24.429919Z",
     "iopub.status.busy": "2022-04-09T13:41:24.429570Z",
     "iopub.status.idle": "2022-04-09T13:41:27.119553Z",
     "shell.execute_reply": "2022-04-09T13:41:27.110815Z",
     "shell.execute_reply.started": "2022-04-09T13:41:24.429879Z"
    }
   },
   "outputs": [
    {
     "name": "stdout",
     "output_type": "stream",
     "text": [
      "Confusion Matrix\n",
      "[[ 42  27   8 140 159  69  46]\n",
      " [  4   4   0  17  13  16   1]\n",
      " [ 33  23   5 167 185  73  42]\n",
      " [ 83  35  14 227 298 137  85]\n",
      " [ 64  25  10 158 200  95  74]\n",
      " [ 51  31   8 173 194  81  56]\n",
      " [ 36  18   4 127 125  72  34]]\n",
      "Classification Report\n",
      "              precision    recall  f1-score   support\n",
      "\n",
      "       angry       0.13      0.09      0.10       491\n",
      "     disgust       0.02      0.07      0.04        55\n",
      "        fear       0.10      0.01      0.02       528\n",
      "       happy       0.22      0.26      0.24       879\n",
      "     neutral       0.17      0.32      0.22       626\n",
      "         sad       0.15      0.14      0.14       594\n",
      "    surprise       0.10      0.08      0.09       416\n",
      "\n",
      "    accuracy                           0.17      3589\n",
      "   macro avg       0.13      0.14      0.12      3589\n",
      "weighted avg       0.15      0.17      0.15      3589\n",
      "\n"
     ]
    },
    {
     "data": {
      "image/png": "[encoded data removed]",
      "text/plain": [
       "<Figure size 576x576 with 2 Axes>"
      ]
     },
     "metadata": {
      "needs_background": "light"
     },
     "output_type": "display_data"
    }
   ],
   "source": [
    "#ON TESTING SET\n",
    "y_pred = our_model.predict(test_set)\n",
    "y_pred = np.argmax(y_pred, axis=1)\n",
    "class_labels = test_set.class_indices\n",
    "class_labels = {v:k for k,v in class_labels.items()}\n",
    "\n",
    "#from sklearn.metrics import classification_report, confusion_matrix\n",
    "cm_test = confusion_matrix(test_set.classes, y_pred)\n",
    "print('Confusion Matrix')\n",
    "print(cm_test)\n",
    "print('Classification Report')\n",
    "target_names = list(class_labels.values())\n",
    "print(classification_report(test_set.classes, y_pred, target_names=target_names))\n",
    "\n",
    "plt.figure(figsize=(8,8))\n",
    "plt.imshow(cm_test, interpolation='nearest')\n",
    "plt.colorbar()\n",
    "tick_mark = np.arange(len(target_names))\n",
    "_ = plt.xticks(tick_mark, target_names, rotation=90)\n",
    "_ = plt.yticks(tick_mark, target_names)"
   ]
  },
  {
   "cell_type": "code",
   "execution_count": 21,
   "metadata": {
    "execution": {
     "iopub.execute_input": "2022-04-09T13:41:27.121727Z",
     "iopub.status.busy": "2022-04-09T13:41:27.120970Z",
     "iopub.status.idle": "2022-04-09T13:41:30.240109Z",
     "shell.execute_reply": "2022-04-09T13:41:30.239396Z",
     "shell.execute_reply.started": "2022-04-09T13:41:27.121686Z"
    }
   },
   "outputs": [
    {
     "name": "stdout",
     "output_type": "stream",
     "text": [
      "Confusion Matrix\n",
      "[[ 39  13   7 135 151  68  54]\n",
      " [  2   4   2  13  23  12   0]\n",
      " [ 37  19   3 134 175  82  46]\n",
      " [ 73  41   6 251 277 140 107]\n",
      " [ 47  30   5 168 193  94  70]\n",
      " [ 63  27   7 174 212 113  57]\n",
      " [ 48  19   3 127 122  62  34]]\n",
      "Classification Report\n",
      "              precision    recall  f1-score   support\n",
      "\n",
      "       angry       0.13      0.08      0.10       467\n",
      "     disgust       0.03      0.07      0.04        56\n",
      "        fear       0.09      0.01      0.01       496\n",
      "       happy       0.25      0.28      0.26       895\n",
      "     neutral       0.17      0.32      0.22       607\n",
      "         sad       0.20      0.17      0.18       653\n",
      "    surprise       0.09      0.08      0.09       415\n",
      "\n",
      "    accuracy                           0.18      3589\n",
      "   macro avg       0.14      0.14      0.13      3589\n",
      "weighted avg       0.17      0.18      0.16      3589\n",
      "\n"
     ]
    },
    {
     "data": {
      "image/png": "[encoded data removed]",
      "text/plain": [
       "<Figure size 576x576 with 2 Axes>"
      ]
     },
     "metadata": {
      "needs_background": "light"
     },
     "output_type": "display_data"
    }
   ],
   "source": [
    "#ON Validation SET\n",
    "y_pred = our_model.predict(val_set)\n",
    "y_pred = np.argmax(y_pred, axis=1)\n",
    "class_labels = val_set.class_indices\n",
    "class_labels = {v:k for k,v in class_labels.items()}\n",
    "\n",
    "from sklearn.metrics import classification_report, confusion_matrix\n",
    "cm_train = confusion_matrix(val_set.classes, y_pred)\n",
    "print('Confusion Matrix')\n",
    "print(cm_train)\n",
    "print('Classification Report')\n",
    "target_names = list(class_labels.values())\n",
    "print(classification_report(val_set.classes, y_pred, target_names=target_names))\n",
    "\n",
    "plt.figure(figsize=(8,8))\n",
    "plt.imshow(cm_train, interpolation='nearest')\n",
    "plt.colorbar()\n",
    "tick_mark = np.arange(len(target_names))\n",
    "_ = plt.xticks(tick_mark, target_names, rotation=90)\n",
    "_ = plt.yticks(tick_mark, target_names)"
   ]
  },
  {
   "cell_type": "code",
   "execution_count": null,
   "metadata": {},
   "outputs": [],
   "source": []
  },
  {
   "cell_type": "code",
   "execution_count": null,
   "metadata": {},
   "outputs": [],
   "source": []
  }
 ],
 "metadata": {
  "kernelspec": {
   "display_name": "Python 3 (ipykernel)",
   "language": "python",
   "name": "python3"
  },
  "language_info": {
   "codemirror_mode": {
    "name": "ipython",
    "version": 3
   },
   "file_extension": ".py",
   "mimetype": "text/x-python",
   "name": "python",
   "nbconvert_exporter": "python",
   "pygments_lexer": "ipython3",
   "version": "3.10.12"
  }
 },
 "nbformat": 4,
 "nbformat_minor": 4
}
